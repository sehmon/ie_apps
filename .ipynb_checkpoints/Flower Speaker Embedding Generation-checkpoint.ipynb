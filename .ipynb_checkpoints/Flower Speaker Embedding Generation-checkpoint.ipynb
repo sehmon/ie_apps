{
 "cells": [
  {
   "cell_type": "markdown",
   "id": "11ed6cb5-48f1-4106-86c6-3e3d2967613d",
   "metadata": {},
   "source": [
    "# Embedding Generation\n",
    "Technical Walkthrough:\n",
    "\n",
    "1. Create a N dimensional latent space based on a corpus of words\n",
    "2. Query that space given a set of 2D coordinates\n",
    "3. Pick a word from the embedding space and use that as the search query on “Twitter” (in the future we can maybe use a passage of books/poetry/etc.)\n",
    "4. Take the content returned and pass to eleven labs for TTS\n",
    "5. Play TTS in the 3D experience\n",
    "6. Repeat this loop"
   ]
  },
  {
   "cell_type": "code",
   "execution_count": null,
   "id": "708d5410-80b0-4be1-9acd-a955d8fa72d1",
   "metadata": {},
   "outputs": [],
   "source": [
    "from sklearn.decomposition import PCA\n",
    "from gensim.models import KeyedVectors\n",
    "\n"
   ]
  }
 ],
 "metadata": {
  "kernelspec": {
   "display_name": "Python 3 (ipykernel)",
   "language": "python",
   "name": "python3"
  },
  "language_info": {
   "codemirror_mode": {
    "name": "ipython",
    "version": 3
   },
   "file_extension": ".py",
   "mimetype": "text/x-python",
   "name": "python",
   "nbconvert_exporter": "python",
   "pygments_lexer": "ipython3",
   "version": "3.12.5"
  }
 },
 "nbformat": 4,
 "nbformat_minor": 5
}
